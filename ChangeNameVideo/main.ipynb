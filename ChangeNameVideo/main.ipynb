{
 "cells": [
  {
   "cell_type": "code",
   "execution_count": 79,
   "metadata": {},
   "outputs": [],
   "source": [
    "import pandas as pd\n",
    "import os"
   ]
  },
  {
   "cell_type": "code",
   "execution_count": 80,
   "metadata": {},
   "outputs": [],
   "source": [
    "path = r\"C:\\Users\\lehoa\\Practice\\ChangeNameVideo\\Source\\database.xlsx\"\n",
    "df = pd.read_excel(path,sheet_name=\"video-test\")\n"
   ]
  },
  {
   "cell_type": "code",
   "execution_count": 81,
   "metadata": {},
   "outputs": [
    {
     "name": "stdout",
     "output_type": "stream",
     "text": [
      "{'3214.mp4': 'Dramas starring Jeff Daniels', '1738.mp4': 'Dramas starring Jodie Foster', '1748.mp4': 'Dramas starring John Turturro', '1441.mp4': 'Action & Adventure starring Toshirô Mifune', '2449.mp4': 'Action & Adventure starring Yun-Fat Chow', '43040.mp4': 'Action Comedies', '1568.mp4': 'Action Sci-Fi & Fantasy', '2116.mp4': 'Action Sci-Fi & Fantasy based on Books', '3392.mp4': 'Action Sci-Fi & Fantasy for ages 11 to 12', '2247.mp4': 'Action Sci-Fi & Fantasy for ages 8 to 10', '2797.mp4': 'Action Sci-Fi & Fantasy on Blu-ray', '43048.mp4': 'Action Thrillers', '11881.mp4': 'Adult Animation', '7442.mp4': 'Adventures', '3761.mp4': 'African', '2571.mp4': 'African-American Action & Adventure from the 1970s', '4906.mp4': 'African-American Comedies', '4062.mp4': 'African-American Comedies from the 1970s', '3053.mp4': 'African-American Crime Action & Adventure', '177.mp4': 'African-American Crime Comedies', '1.mp4': 'African-American Crime Documentaries', '3959.mp4': 'African-American Crime Dramas'}\n"
     ]
    }
   ],
   "source": [
    "df.head()\n",
    "list_id_video = df['video_id'].to_list()\n",
    "list_id_video_title = df['video_title'].to_list()\n",
    "list_id_video_new = []\n",
    "for path in list_id_video:\n",
    "    path = str(path) + \".mp4\"\n",
    "    list_id_video_new.append(path)\n",
    "dict = {}\n",
    "for i in range(1,len(list_id_video_new)):\n",
    "    dict.update({list_id_video_new[i]:list_id_video_title[i]})\n",
    "print(dict)\n",
    "\n"
   ]
  },
  {
   "cell_type": "code",
   "execution_count": 82,
   "metadata": {},
   "outputs": [],
   "source": [
    "\n",
    "path_test = r\"C:\\Users\\lehoa\\Practice\\ChangeNameVideo\\Source\\test\"\n",
    "os.chdir(path_test)\n",
    "filePath = os.listdir(path_test)\n",
    "for file in filePath:\n",
    "    for id,title in dict.items():\n",
    "        title = title+\".mp4\"\n",
    "        if id == file:\n",
    "            os.rename(file,title)"
   ]
  }
 ],
 "metadata": {
  "kernelspec": {
   "display_name": ".venv",
   "language": "python",
   "name": "python3"
  },
  "language_info": {
   "codemirror_mode": {
    "name": "ipython",
    "version": 3
   },
   "file_extension": ".py",
   "mimetype": "text/x-python",
   "name": "python",
   "nbconvert_exporter": "python",
   "pygments_lexer": "ipython3",
   "version": "3.10.11"
  }
 },
 "nbformat": 4,
 "nbformat_minor": 2
}
